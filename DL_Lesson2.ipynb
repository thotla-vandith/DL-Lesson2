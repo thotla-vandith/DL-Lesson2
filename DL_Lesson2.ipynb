{
  "nbformat": 4,
  "nbformat_minor": 0,
  "metadata": {
    "colab": {
      "name": "DL-Lesson2.ipynb",
      "provenance": []
    },
    "kernelspec": {
      "name": "python3",
      "display_name": "Python 3"
    },
    "accelerator": "GPU"
  },
  "cells": [
    {
      "cell_type": "code",
      "metadata": {
        "id": "Ry7NRUf0llQ8",
        "colab_type": "code",
        "outputId": "d54cded0-7200-4516-b3d1-770ae673d87a",
        "colab": {
          "base_uri": "https://localhost:8080/",
          "height": 105
        }
      },
      "source": [
        "import tensorflow as tf\n",
        "from keras import Sequential\n",
        "from keras.datasets import mnist\n",
        "import numpy as np\n",
        "from keras.layers import Dense\n",
        "from keras.utils import to_categorical"
      ],
      "execution_count": 8,
      "outputs": [
        {
          "output_type": "stream",
          "text": [
            "`%tensorflow_version` only switches the major version: 1.x or 2.x.\n",
            "You set: `1.15`. This will be interpreted as: `1.x`.\n",
            "\n",
            "\n",
            "TensorFlow is already loaded. Please restart the runtime to change versions.\n"
          ],
          "name": "stdout"
        }
      ]
    },
    {
      "cell_type": "code",
      "metadata": {
        "id": "XReLyY3jlr-R",
        "colab_type": "code",
        "colab": {}
      },
      "source": [
        "(train_images,train_labels),(test_images, test_labels) = mnist.load_data()"
      ],
      "execution_count": 0,
      "outputs": []
    },
    {
      "cell_type": "code",
      "metadata": {
        "id": "RrEOE2a_luF1",
        "colab_type": "code",
        "outputId": "2ba5e9b0-2edc-459d-cbe6-0896244db105",
        "colab": {
          "base_uri": "https://localhost:8080/",
          "height": 34
        }
      },
      "source": [
        "print(train_images.shape[1:])"
      ],
      "execution_count": 10,
      "outputs": [
        {
          "output_type": "stream",
          "text": [
            "(28, 28)\n"
          ],
          "name": "stdout"
        }
      ]
    },
    {
      "cell_type": "markdown",
      "metadata": {
        "id": "oi1noKXWl0E4",
        "colab_type": "text"
      },
      "source": [
        "###Processing the given data.\n",
        "\n",
        "####First, converting each image of shape 28x28 to 784 dimension which feeds to the network as a single feature."
      ]
    },
    {
      "cell_type": "code",
      "metadata": {
        "id": "3KcvF2qFlwhr",
        "colab_type": "code",
        "outputId": "e10b8dcf-0060-40f9-e427-80d4e4c7eff2",
        "colab": {
          "base_uri": "https://localhost:8080/",
          "height": 34
        }
      },
      "source": [
        "dimData = np.prod(train_images.shape[1:])\n",
        "print(dimData)\n",
        "train_data = train_images.reshape(train_images.shape[0],dimData)\n",
        "test_data = test_images.reshape(test_images.shape[0],dimData)"
      ],
      "execution_count": 11,
      "outputs": [
        {
          "output_type": "stream",
          "text": [
            "784\n"
          ],
          "name": "stdout"
        }
      ]
    },
    {
      "cell_type": "markdown",
      "metadata": {
        "id": "CI3BKhj0l3fd",
        "colab_type": "text"
      },
      "source": [
        "####Converting data to float and scaling values between 0 and 1"
      ]
    },
    {
      "cell_type": "code",
      "metadata": {
        "id": "G_XcNfVfl1jH",
        "colab_type": "code",
        "colab": {}
      },
      "source": [
        "train_data = train_data.astype('float')\n",
        "test_data = test_data.astype('float')\n",
        "train_datad = train_data.astype('float')\n",
        "test_datad = test_data.astype('float')"
      ],
      "execution_count": 0,
      "outputs": []
    },
    {
      "cell_type": "markdown",
      "metadata": {
        "id": "ODdo3u8Ql8c8",
        "colab_type": "text"
      },
      "source": [
        "####Scaling the data."
      ]
    },
    {
      "cell_type": "code",
      "metadata": {
        "id": "nky9C9FMl7BU",
        "colab_type": "code",
        "colab": {}
      },
      "source": [
        "train_data /=255.0\n",
        "test_data /=255.0"
      ],
      "execution_count": 0,
      "outputs": []
    },
    {
      "cell_type": "markdown",
      "metadata": {
        "id": "PVc9dRURl_oo",
        "colab_type": "text"
      },
      "source": [
        "####changing the labels from Integer to one-hot encoding. \n",
        "[to_categorical is doing the same thing as LabelEncoder().]"
      ]
    },
    {
      "cell_type": "code",
      "metadata": {
        "id": "iGTKxNyYl-nE",
        "colab_type": "code",
        "colab": {}
      },
      "source": [
        "train_labels_one_hot = to_categorical(train_labels)\n",
        "test_labels_one_hot = to_categorical(test_labels)"
      ],
      "execution_count": 0,
      "outputs": []
    },
    {
      "cell_type": "markdown",
      "metadata": {
        "id": "1YFoN0z6mEbR",
        "colab_type": "text"
      },
      "source": [
        "####Creating the network"
      ]
    },
    {
      "cell_type": "code",
      "metadata": {
        "id": "9ui43p57mCgk",
        "colab_type": "code",
        "colab": {
          "base_uri": "https://localhost:8080/",
          "height": 143
        },
        "outputId": "e370074d-4c4e-433e-cf96-388939a4315b"
      },
      "source": [
        "model = Sequential()\n",
        "model.add(Dense(512, activation='relu', input_shape=(dimData,)))\n",
        "model.add(Dense(512, activation='relu'))\n",
        "model.add(Dense(10, activation='softmax'))"
      ],
      "execution_count": 15,
      "outputs": [
        {
          "output_type": "stream",
          "text": [
            "WARNING:tensorflow:From /usr/local/lib/python3.6/dist-packages/keras/backend/tensorflow_backend.py:66: The name tf.get_default_graph is deprecated. Please use tf.compat.v1.get_default_graph instead.\n",
            "\n",
            "WARNING:tensorflow:From /usr/local/lib/python3.6/dist-packages/keras/backend/tensorflow_backend.py:541: The name tf.placeholder is deprecated. Please use tf.compat.v1.placeholder instead.\n",
            "\n",
            "WARNING:tensorflow:From /usr/local/lib/python3.6/dist-packages/keras/backend/tensorflow_backend.py:4432: The name tf.random_uniform is deprecated. Please use tf.random.uniform instead.\n",
            "\n"
          ],
          "name": "stdout"
        }
      ]
    },
    {
      "cell_type": "markdown",
      "metadata": {
        "id": "538_9WbGmp5a",
        "colab_type": "text"
      },
      "source": [
        "####Compiling the model."
      ]
    },
    {
      "cell_type": "code",
      "metadata": {
        "id": "ck4tEWPMmG0j",
        "colab_type": "code",
        "colab": {
          "base_uri": "https://localhost:8080/",
          "height": 87
        },
        "outputId": "e378b538-a64f-4190-eb2c-0f61f78a1293"
      },
      "source": [
        "model.compile(optimizer='rmsprop', loss='categorical_crossentropy', metrics=['accuracy'])"
      ],
      "execution_count": 16,
      "outputs": [
        {
          "output_type": "stream",
          "text": [
            "WARNING:tensorflow:From /usr/local/lib/python3.6/dist-packages/keras/optimizers.py:793: The name tf.train.Optimizer is deprecated. Please use tf.compat.v1.train.Optimizer instead.\n",
            "\n",
            "WARNING:tensorflow:From /usr/local/lib/python3.6/dist-packages/keras/backend/tensorflow_backend.py:3576: The name tf.log is deprecated. Please use tf.math.log instead.\n",
            "\n"
          ],
          "name": "stdout"
        }
      ]
    },
    {
      "cell_type": "code",
      "metadata": {
        "id": "rsNP_elemr_i",
        "colab_type": "code",
        "outputId": "85387298-920f-47cb-e48b-544ec13bdd04",
        "colab": {
          "base_uri": "https://localhost:8080/",
          "height": 747
        }
      },
      "source": [
        "history = model.fit(train_data, train_labels_one_hot, batch_size=256, epochs=10, verbose=1,\n",
        "                   validation_data=(test_data, test_labels_one_hot))"
      ],
      "execution_count": 17,
      "outputs": [
        {
          "output_type": "stream",
          "text": [
            "WARNING:tensorflow:From /tensorflow-1.15.2/python3.6/tensorflow_core/python/ops/math_grad.py:1424: where (from tensorflow.python.ops.array_ops) is deprecated and will be removed in a future version.\n",
            "Instructions for updating:\n",
            "Use tf.where in 2.0, which has the same broadcast rule as np.where\n",
            "WARNING:tensorflow:From /usr/local/lib/python3.6/dist-packages/keras/backend/tensorflow_backend.py:1033: The name tf.assign_add is deprecated. Please use tf.compat.v1.assign_add instead.\n",
            "\n",
            "WARNING:tensorflow:From /usr/local/lib/python3.6/dist-packages/keras/backend/tensorflow_backend.py:1020: The name tf.assign is deprecated. Please use tf.compat.v1.assign instead.\n",
            "\n",
            "WARNING:tensorflow:From /usr/local/lib/python3.6/dist-packages/keras/backend/tensorflow_backend.py:3005: The name tf.Session is deprecated. Please use tf.compat.v1.Session instead.\n",
            "\n",
            "Train on 60000 samples, validate on 10000 samples\n",
            "Epoch 1/10\n",
            "WARNING:tensorflow:From /usr/local/lib/python3.6/dist-packages/keras/backend/tensorflow_backend.py:190: The name tf.get_default_session is deprecated. Please use tf.compat.v1.get_default_session instead.\n",
            "\n",
            "WARNING:tensorflow:From /usr/local/lib/python3.6/dist-packages/keras/backend/tensorflow_backend.py:197: The name tf.ConfigProto is deprecated. Please use tf.compat.v1.ConfigProto instead.\n",
            "\n",
            "WARNING:tensorflow:From /usr/local/lib/python3.6/dist-packages/keras/backend/tensorflow_backend.py:207: The name tf.global_variables is deprecated. Please use tf.compat.v1.global_variables instead.\n",
            "\n",
            "WARNING:tensorflow:From /usr/local/lib/python3.6/dist-packages/keras/backend/tensorflow_backend.py:216: The name tf.is_variable_initialized is deprecated. Please use tf.compat.v1.is_variable_initialized instead.\n",
            "\n",
            "WARNING:tensorflow:From /usr/local/lib/python3.6/dist-packages/keras/backend/tensorflow_backend.py:223: The name tf.variables_initializer is deprecated. Please use tf.compat.v1.variables_initializer instead.\n",
            "\n",
            "60000/60000 [==============================] - 10s 158us/step - loss: 0.2739 - acc: 0.9163 - val_loss: 0.1837 - val_acc: 0.9393\n",
            "Epoch 2/10\n",
            "60000/60000 [==============================] - 1s 19us/step - loss: 0.0928 - acc: 0.9714 - val_loss: 0.1134 - val_acc: 0.9640\n",
            "Epoch 3/10\n",
            "60000/60000 [==============================] - 1s 20us/step - loss: 0.0586 - acc: 0.9813 - val_loss: 0.0911 - val_acc: 0.9713\n",
            "Epoch 4/10\n",
            "60000/60000 [==============================] - 1s 19us/step - loss: 0.0404 - acc: 0.9873 - val_loss: 0.0786 - val_acc: 0.9788\n",
            "Epoch 5/10\n",
            "60000/60000 [==============================] - 1s 19us/step - loss: 0.0290 - acc: 0.9908 - val_loss: 0.0800 - val_acc: 0.9791\n",
            "Epoch 6/10\n",
            "60000/60000 [==============================] - 1s 18us/step - loss: 0.0229 - acc: 0.9926 - val_loss: 0.0871 - val_acc: 0.9767\n",
            "Epoch 7/10\n",
            "60000/60000 [==============================] - 1s 19us/step - loss: 0.0170 - acc: 0.9946 - val_loss: 0.0946 - val_acc: 0.9774\n",
            "Epoch 8/10\n",
            "60000/60000 [==============================] - 1s 19us/step - loss: 0.0137 - acc: 0.9957 - val_loss: 0.0881 - val_acc: 0.9798\n",
            "Epoch 9/10\n",
            "60000/60000 [==============================] - 1s 20us/step - loss: 0.0112 - acc: 0.9965 - val_loss: 0.0825 - val_acc: 0.9822\n",
            "Epoch 10/10\n",
            "60000/60000 [==============================] - 1s 20us/step - loss: 0.0097 - acc: 0.9968 - val_loss: 0.0879 - val_acc: 0.9820\n"
          ],
          "name": "stdout"
        }
      ]
    },
    {
      "cell_type": "markdown",
      "metadata": {
        "id": "ow679EJXqkNp",
        "colab_type": "text"
      },
      "source": [
        "###1.) Plotting the loss and accuracy for both training data and validation data."
      ]
    },
    {
      "cell_type": "code",
      "metadata": {
        "id": "Ld87-pHSnODK",
        "colab_type": "code",
        "outputId": "0a17fc3f-19c1-44a3-bfac-ba5555e1ed11",
        "colab": {
          "base_uri": "https://localhost:8080/",
          "height": 294
        }
      },
      "source": [
        "\n",
        "import matplotlib.pyplot as plt\n",
        "plt.plot(history.history['acc'])\n",
        "plt.plot(history.history['val_acc'])\n",
        "plt.plot(history.history['loss'])\n",
        "plt.plot(history.history['val_loss'])\n",
        "plt.title('model accuracy')\n",
        "plt.ylabel('accuracy')\n",
        "plt.xlabel('epoch')\n",
        "plt.legend(['accuray', 'validation accuracy','loss','val_loss'], loc='upper left')\n",
        "plt.show()"
      ],
      "execution_count": 19,
      "outputs": [
        {
          "output_type": "display_data",
          "data": {
            "image/png": "[encoded data removed]",
            "text/plain": [
              "<Figure size 432x288 with 1 Axes>"
            ]
          },
          "metadata": {
            "tags": []
          }
        }
      ]
    },
    {
      "cell_type": "markdown",
      "metadata": {
        "id": "gwUSIHjhrbSo",
        "colab_type": "text"
      },
      "source": [
        "###2.) Plotting one of the images in the test data, and then doing inferencing to check what is the prediction of the model on that single image in the test data."
      ]
    },
    {
      "cell_type": "code",
      "metadata": {
        "id": "MvahD8HZ_bNW",
        "colab_type": "code",
        "outputId": "8fb391f0-d20e-4f35-adeb-7453456656c5",
        "colab": {
          "base_uri": "https://localhost:8080/",
          "height": 281
        }
      },
      "source": [
        "plt.imshow(test_images[4,:,:],cmap='gray')\n",
        "plt.title('Ground Truth : {}'.format(test_labels[4]))\n",
        "plt.show()"
      ],
      "execution_count": 23,
      "outputs": [
        {
          "output_type": "display_data",
          "data": {
            "image/png": "[encoded data removed]",
            "text/plain": [
              "<Figure size 432x288 with 1 Axes>"
            ]
          },
          "metadata": {
            "tags": []
          }
        }
      ]
    },
    {
      "cell_type": "code",
      "metadata": {
        "id": "bvOdFJ11_c5G",
        "colab_type": "code",
        "outputId": "9de1a685-8b20-4516-afc3-8784e23e79cf",
        "colab": {
          "base_uri": "https://localhost:8080/",
          "height": 34
        }
      },
      "source": [
        "\n",
        "x=model.predict_classes(test_data[[4],:])\n",
        "print(\"Predicted label\",test_labels[x])"
      ],
      "execution_count": 24,
      "outputs": [
        {
          "output_type": "stream",
          "text": [
            "Predicted label [4]\n"
          ],
          "name": "stdout"
        }
      ]
    },
    {
      "cell_type": "markdown",
      "metadata": {
        "id": "bSXBskgWr6Ur",
        "colab_type": "text"
      },
      "source": [
        "###3.) We had used 2 hidden layers and relu activation:\n",
        "####  a. Try to change the number of hidden layer and the activation to tanh or sigmoid and report what happens."
      ]
    },
    {
      "cell_type": "code",
      "metadata": {
        "id": "-twvhU9u_hmF",
        "colab_type": "code",
        "outputId": "8f9efaeb-91d9-498c-f0e8-1c0b5deacaca",
        "colab": {
          "base_uri": "https://localhost:8080/",
          "height": 407
        }
      },
      "source": [
        "m = Sequential()\n",
        "m.add(Dense(512, activation='relu', input_shape=(dimData,)))\n",
        "m.add(Dense(512, activation='relu'))\n",
        "m.add(Dense(512, activation='tanh'))\n",
        "m.add(Dense(512, activation='sigmoid'))\n",
        "m.add(Dense(10, activation='softmax'))\n",
        "m.compile(optimizer='rmsprop', loss='categorical_crossentropy', metrics=['accuracy'])\n",
        "m.fit(train_data, train_labels_one_hot, batch_size=256, epochs=10, verbose=1,\n",
        "                   validation_data=(test_data, test_labels_one_hot))"
      ],
      "execution_count": 25,
      "outputs": [
        {
          "output_type": "stream",
          "text": [
            "Train on 60000 samples, validate on 10000 samples\n",
            "Epoch 1/10\n",
            "60000/60000 [==============================] - 2s 27us/step - loss: 0.3300 - acc: 0.8956 - val_loss: 0.1040 - val_acc: 0.9674\n",
            "Epoch 2/10\n",
            "60000/60000 [==============================] - 1s 22us/step - loss: 0.1017 - acc: 0.9692 - val_loss: 0.1151 - val_acc: 0.9671\n",
            "Epoch 3/10\n",
            "60000/60000 [==============================] - 1s 23us/step - loss: 0.0660 - acc: 0.9810 - val_loss: 0.0853 - val_acc: 0.9746\n",
            "Epoch 4/10\n",
            "60000/60000 [==============================] - 1s 22us/step - loss: 0.0493 - acc: 0.9850 - val_loss: 0.0909 - val_acc: 0.9745\n",
            "Epoch 5/10\n",
            "60000/60000 [==============================] - 1s 22us/step - loss: 0.0347 - acc: 0.9890 - val_loss: 0.0920 - val_acc: 0.9765\n",
            "Epoch 6/10\n",
            "60000/60000 [==============================] - 1s 23us/step - loss: 0.0293 - acc: 0.9915 - val_loss: 0.0862 - val_acc: 0.9777\n",
            "Epoch 7/10\n",
            "60000/60000 [==============================] - 1s 22us/step - loss: 0.0241 - acc: 0.9926 - val_loss: 0.0851 - val_acc: 0.9797\n",
            "Epoch 8/10\n",
            "60000/60000 [==============================] - 1s 21us/step - loss: 0.0183 - acc: 0.9945 - val_loss: 0.1382 - val_acc: 0.9692\n",
            "Epoch 9/10\n",
            "60000/60000 [==============================] - 1s 22us/step - loss: 0.0171 - acc: 0.9949 - val_loss: 0.0914 - val_acc: 0.9813\n",
            "Epoch 10/10\n",
            "60000/60000 [==============================] - 1s 21us/step - loss: 0.0143 - acc: 0.9956 - val_loss: 0.0980 - val_acc: 0.9812\n"
          ],
          "name": "stdout"
        },
        {
          "output_type": "execute_result",
          "data": {
            "text/plain": [
              "<keras.callbacks.History at 0x7f4fd71826a0>"
            ]
          },
          "metadata": {
            "tags": []
          },
          "execution_count": 25
        }
      ]
    },
    {
      "cell_type": "markdown",
      "metadata": {
        "id": "Grpp2l6ksTxN",
        "colab_type": "text"
      },
      "source": [
        "###4.) Run the same code (3rd question) without scaling the images, how the accuracy changes?"
      ]
    },
    {
      "cell_type": "code",
      "metadata": {
        "id": "DBRLQm7x_tcg",
        "colab_type": "code",
        "outputId": "474633bb-35cc-4e81-d730-3bd6552583db",
        "colab": {
          "base_uri": "https://localhost:8080/",
          "height": 407
        }
      },
      "source": [
        "\n",
        "p = Sequential()\n",
        "p.add(Dense(512, activation='relu', input_shape=(dimData,)))\n",
        "p.add(Dense(512, activation='relu'))\n",
        "p.add(Dense(10, activation='softmax'))\n",
        "p.compile(optimizer='rmsprop', loss='categorical_crossentropy', metrics=['accuracy'])\n",
        "p.fit(train_datad, train_labels_one_hot, batch_size=256, epochs=10, verbose=1,\n",
        "                   validation_data=(test_datad, test_labels_one_hot)) "
      ],
      "execution_count": 26,
      "outputs": [
        {
          "output_type": "stream",
          "text": [
            "Train on 60000 samples, validate on 10000 samples\n",
            "Epoch 1/10\n",
            "60000/60000 [==============================] - 1s 25us/step - loss: 10.2762 - acc: 0.3612 - val_loss: 9.5022 - val_acc: 0.4098\n",
            "Epoch 2/10\n",
            "60000/60000 [==============================] - 1s 20us/step - loss: 9.0929 - acc: 0.4353 - val_loss: 8.7985 - val_acc: 0.4539\n",
            "Epoch 3/10\n",
            "60000/60000 [==============================] - 1s 20us/step - loss: 8.8502 - acc: 0.4506 - val_loss: 8.8716 - val_acc: 0.4493\n",
            "Epoch 4/10\n",
            "60000/60000 [==============================] - 1s 20us/step - loss: 8.4630 - acc: 0.4744 - val_loss: 7.4065 - val_acc: 0.5396\n",
            "Epoch 5/10\n",
            "60000/60000 [==============================] - 1s 20us/step - loss: 7.4476 - acc: 0.5373 - val_loss: 7.4539 - val_acc: 0.5371\n",
            "Epoch 6/10\n",
            "60000/60000 [==============================] - 1s 20us/step - loss: 7.3849 - acc: 0.5414 - val_loss: 7.2366 - val_acc: 0.5507\n",
            "Epoch 7/10\n",
            "60000/60000 [==============================] - 1s 20us/step - loss: 7.3714 - acc: 0.5424 - val_loss: 7.2450 - val_acc: 0.5504\n",
            "Epoch 8/10\n",
            "60000/60000 [==============================] - 1s 20us/step - loss: 7.2885 - acc: 0.5476 - val_loss: 7.2631 - val_acc: 0.5493\n",
            "Epoch 9/10\n",
            "60000/60000 [==============================] - 1s 19us/step - loss: 7.3167 - acc: 0.5458 - val_loss: 7.2239 - val_acc: 0.5517\n",
            "Epoch 10/10\n",
            "60000/60000 [==============================] - 1s 20us/step - loss: 7.2846 - acc: 0.5480 - val_loss: 7.3954 - val_acc: 0.5407\n"
          ],
          "name": "stdout"
        },
        {
          "output_type": "execute_result",
          "data": {
            "text/plain": [
              "<keras.callbacks.History at 0x7f4fd7026438>"
            ]
          },
          "metadata": {
            "tags": []
          },
          "execution_count": 26
        }
      ]
    },
    {
      "cell_type": "markdown",
      "metadata": {
        "id": "wtqkQJvNsiFX",
        "colab_type": "text"
      },
      "source": [
        "##Bonus point:\n",
        "###5.) Converting the sequential model to an API model."
      ]
    },
    {
      "cell_type": "code",
      "metadata": {
        "id": "8H_1Hv79As_r",
        "colab_type": "code",
        "outputId": "859b0fc5-5aea-4722-972b-3054834ffdfa",
        "colab": {
          "base_uri": "https://localhost:8080/",
          "height": 443
        }
      },
      "source": [
        "from keras.models import Model\n",
        "from keras.layers import Input\n",
        "i=Input(shape=(784,))\n",
        "x= Dense(512, activation='relu')(i)\n",
        "x= Dense(512, activation='relu')(x)\n",
        "\n",
        "x= Dense(10, activation='softmax')(x)\n",
        "p = Model(input=i,output=x)\n",
        "p.compile(optimizer='rmsprop', loss='categorical_crossentropy', metrics=['accuracy'])\n",
        "p.fit(train_data, train_labels_one_hot, batch_size=256, epochs=10, verbose=1,\n",
        "                   validation_data=(test_data, test_labels_one_hot))"
      ],
      "execution_count": 27,
      "outputs": [
        {
          "output_type": "stream",
          "text": [
            "/usr/local/lib/python3.6/dist-packages/ipykernel_launcher.py:8: UserWarning: Update your `Model` call to the Keras 2 API: `Model(inputs=Tensor(\"in..., outputs=Tensor(\"de...)`\n",
            "  \n"
          ],
          "name": "stderr"
        },
        {
          "output_type": "stream",
          "text": [
            "Train on 60000 samples, validate on 10000 samples\n",
            "Epoch 1/10\n",
            "60000/60000 [==============================] - 1s 23us/step - loss: 0.2698 - acc: 0.9168 - val_loss: 0.1323 - val_acc: 0.9555\n",
            "Epoch 2/10\n",
            "60000/60000 [==============================] - 1s 20us/step - loss: 0.0932 - acc: 0.9711 - val_loss: 0.0807 - val_acc: 0.9746\n",
            "Epoch 3/10\n",
            "60000/60000 [==============================] - 1s 19us/step - loss: 0.0585 - acc: 0.9815 - val_loss: 0.0765 - val_acc: 0.9760\n",
            "Epoch 4/10\n",
            "60000/60000 [==============================] - 1s 20us/step - loss: 0.0412 - acc: 0.9867 - val_loss: 0.0633 - val_acc: 0.9802\n",
            "Epoch 5/10\n",
            "60000/60000 [==============================] - 1s 19us/step - loss: 0.0288 - acc: 0.9908 - val_loss: 0.0690 - val_acc: 0.9794\n",
            "Epoch 6/10\n",
            "60000/60000 [==============================] - 1s 20us/step - loss: 0.0222 - acc: 0.9929 - val_loss: 0.0998 - val_acc: 0.9739\n",
            "Epoch 7/10\n",
            "60000/60000 [==============================] - 1s 20us/step - loss: 0.0165 - acc: 0.9950 - val_loss: 0.0687 - val_acc: 0.9834\n",
            "Epoch 8/10\n",
            "60000/60000 [==============================] - 1s 20us/step - loss: 0.0132 - acc: 0.9955 - val_loss: 0.1105 - val_acc: 0.9753\n",
            "Epoch 9/10\n",
            "60000/60000 [==============================] - 1s 20us/step - loss: 0.0130 - acc: 0.9959 - val_loss: 0.0935 - val_acc: 0.9804\n",
            "Epoch 10/10\n",
            "60000/60000 [==============================] - 1s 20us/step - loss: 0.0100 - acc: 0.9967 - val_loss: 0.1076 - val_acc: 0.9778\n"
          ],
          "name": "stdout"
        },
        {
          "output_type": "execute_result",
          "data": {
            "text/plain": [
              "<keras.callbacks.History at 0x7f4fd6f98518>"
            ]
          },
          "metadata": {
            "tags": []
          },
          "execution_count": 27
        }
      ]
    }
  ]
}